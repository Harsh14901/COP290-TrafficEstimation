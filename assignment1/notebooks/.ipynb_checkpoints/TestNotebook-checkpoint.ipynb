{
 "cells": [
  {
   "cell_type": "code",
   "execution_count": 8,
   "id": "skilled-anime",
   "metadata": {},
   "outputs": [],
   "source": [
    "#pragma cling add_include_path(\"/usr/local/include\")\n",
    "#pragma cling add_include_path(\"/usr/local/include/opencv4\")\n",
    "#pragma cling add_library_path(\"/usr/local/lib\")"
   ]
  },
  {
   "cell_type": "code",
   "execution_count": 9,
   "id": "virtual-dating",
   "metadata": {},
   "outputs": [],
   "source": [
    "#pragma cling load(\"/usr/local/lib/libopencv_aruco.so\")\n",
    "#pragma cling load(\"/usr/local/lib/libopencv_bgsegm.so\")\n",
    "#pragma cling load(\"/usr/local/lib/libopencv_calib3d.so\")\n",
    "#pragma cling load(\"/usr/local/lib/libopencv_ccalib.so\")\n",
    "#pragma cling load(\"/usr/local/lib/libopencv_core.so\")\n",
    "#pragma cling load(\"/usr/local/lib/libopencv_highgui.so\")\n",
    "#pragma cling load(\"/usr/local/lib/libopencv_imgcodecs.so\")\n",
    "#pragma cling load(\"/usr/local/lib/libopencv_imgproc.so\")\n",
    "#pragma cling load(\"/usr/local/lib/libopencv_video.so\")\n",
    "#pragma cling load(\"/usr/local/lib/libopencv_videoio.so\")"
   ]
  },
  {
   "cell_type": "code",
   "execution_count": 10,
   "id": "retained-australian",
   "metadata": {},
   "outputs": [],
   "source": [
    "#include<opencv2/opencv.hpp>\n",
    "#include<iostream>"
   ]
  },
  {
   "cell_type": "code",
   "execution_count": 11,
   "id": "modular-recall",
   "metadata": {},
   "outputs": [],
   "source": [
    "using namespace std;\n",
    "using namespace cv;  // Its a bit buggy"
   ]
  },
  {
   "cell_type": "code",
   "execution_count": 12,
   "id": "surrounded-adoption",
   "metadata": {},
   "outputs": [],
   "source": [
    "cv::VideoCapture cap(\"../input_files/nfs.mp4\");"
   ]
  },
  {
   "cell_type": "code",
   "execution_count": 13,
   "id": "quick-details",
   "metadata": {},
   "outputs": [
    {
     "name": "stdout",
     "output_type": "stream",
     "text": [
      "Frames per seconds : 28.5716\n"
     ]
    }
   ],
   "source": [
    "if (cap.isOpened() == false)\n",
    "{\n",
    "    cout << \"Cannot open the video file\" << endl;\n",
    "    cin.get(); //wait for any key press\n",
    "    return -1;\n",
    "}\n",
    "\n",
    "//Uncomment the following line if you want to start the video in the middle\n",
    "// cap.set(cv::CAP_PROP_POS_MSEC, 300);\n",
    "\n",
    "//get the frames rate of the video\n",
    "double fps = cap.get(cv::CAP_PROP_FPS);\n",
    "cout << \"Frames per seconds : \" << fps << endl;\n",
    "\n",
    "\n",
    "cv::String window_name = \"My First Video\";\n",
    "\n",
    "namedWindow(window_name, cv::WINDOW_NORMAL); //create a window\n",
    "namedWindow(\"High Contrast\", cv::WINDOW_NORMAL); //create a window"
   ]
  },
  {
   "cell_type": "code",
   "execution_count": 14,
   "id": "native-leader",
   "metadata": {},
   "outputs": [
    {
     "name": "stdout",
     "output_type": "stream",
     "text": [
      "Esc key is pressed by user. Stoppig the video\n"
     ]
    }
   ],
   "source": [
    "while (true)\n",
    "{\n",
    "    cv::Mat frame;\n",
    "    bool bSuccess = cap.read(frame); // read a new frame from video\n",
    "\n",
    "    cv::Mat new_img = cv::Mat::zeros(frame.size(),frame.type());\n",
    "    cv::Mat new_img2 = cv::Mat::zeros(frame.size(),frame.type());\n",
    "\n",
    "    double alpha = 1.7;\n",
    "    double beta = -90;\n",
    "\n",
    "    frame.convertTo(new_img,-1,alpha,beta);\n",
    "\n",
    "    cvtColor(frame,new_img2,cv::COLOR_BGR2GRAY);\n",
    "\n",
    "    //Breaking the while loop at the end of the video\n",
    "    if (bSuccess == false)\n",
    "    {\n",
    "        cout << \"Found the end of the video\" << endl;\n",
    "        break;\n",
    "    }\n",
    "\n",
    "    //show the frame in the created window\n",
    "    imshow(window_name, new_img2);\n",
    "    imshow(\"High Contrast\", new_img);\n",
    "\n",
    "\n",
    "    if (cv::waitKey(10) == 27)\n",
    "    {\n",
    "        cout << \"Esc key is pressed by user. Stoppig the video\" << endl;\n",
    "        break;\n",
    "    }\n",
    "}"
   ]
  },
  {
   "cell_type": "code",
   "execution_count": null,
   "id": "hearing-awareness",
   "metadata": {},
   "outputs": [],
   "source": []
  }
 ],
 "metadata": {
  "kernelspec": {
   "display_name": "C++11",
   "language": "C++11",
   "name": "xcpp11"
  },
  "language_info": {
   "codemirror_mode": "text/x-c++src",
   "file_extension": ".cpp",
   "mimetype": "text/x-c++src",
   "name": "c++",
   "version": "11"
  }
 },
 "nbformat": 4,
 "nbformat_minor": 5
}
